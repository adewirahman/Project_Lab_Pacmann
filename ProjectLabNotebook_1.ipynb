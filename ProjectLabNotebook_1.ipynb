{
 "cells": [
  {
   "cell_type": "code",
   "execution_count": 1,
   "id": "external-qatar",
   "metadata": {},
   "outputs": [],
   "source": [
    "import pandas as pd\n",
    "import numpy as np\n",
    "import datetime as dt\n",
    "import matplotlib.pyplot as plt\n",
    "import statsmodels.api as sm\n",
    "import os\n",
    "import random"
   ]
  },
  {
   "cell_type": "code",
   "execution_count": 2,
   "id": "fixed-bulletin",
   "metadata": {},
   "outputs": [],
   "source": [
    "# Susenas 2012\n",
    "sus12_ki = pd.read_csv('/home/ade/Documents/Project_Lab_Pacmann/susenas12/sn12_ki.csv')\n",
    "sus12_kr = pd.read_csv('/home/ade/Documents/Project_Lab_Pacmann/susenas12/sn12_krt.csv')\n",
    "\n",
    "# Susenas 2013\n",
    "sus13_ki = pd.read_csv('~/Documents/Project_Lab_Pacmann/susenas13/sn13_ki.csv')\n",
    "sus13_kr = pd.read_csv('~/Documents/Project_Lab_Pacmann/susenas13/sn13_krt.csv')\n",
    "\n",
    "# Susenas Modul Konsumsi\n",
    "sus13_m41 = pd.read_csv('~/Documents/Project_Lab_Pacmann/susenas13/sn13_m41.csv')\n",
    "sus12_m41p1 = pd.read_csv('/home/ade/Documents/Project_Lab_Pacmann/susenas12/sn12_m41p1.csv') # part 1 susenas 2012\n",
    "\n",
    "# Poverty Line Susenas 2013\n",
    "poverty_line = pd.read_csv(\"~/Documents/Project_Lab_Pacmann/susenas13/pov_line.csv\")\n",
    "poverty = pd.read_csv(\"~/Documents/Project_Lab_Pacmann/susenas13/poverty.csv\")"
   ]
  },
  {
   "cell_type": "markdown",
   "id": "straight-beverage",
   "metadata": {},
   "source": [
    "Eksplor perilaku kunjungan ke nakes bila ada keluhan kesehatan\n",
    "\n",
    "- B5R1A\n",
    "\n",
    "Apakah dalam 1 bulan terakhir mempunyai keluhan kesehatan seperti di bawah ini? (Bacakan dari a s.d. h)\n",
    "[Isikan kode 1 bila ada, kode 2 bila tidak ada]\n",
    "\n",
    "- B5R4A\n",
    "Apakah pernah mengobati sendiri dalam 1 bulan\n",
    "terakhir? \n",
    "1. Ya\n",
    "2. Tidak  [R.5]\n",
    "\n",
    "Jenis obat/cara pengobatan yang digunakan:\n",
    "[Isikan kode 1 bila ya, kode 2 bila tidak]\n",
    "\n",
    "- B54RB1. Tradisional\n",
    "- B54RB2. Modern\n",
    "- B54RB3. Lainnya"
   ]
  },
  {
   "cell_type": "code",
   "execution_count": 3,
   "id": "coastal-horizon",
   "metadata": {},
   "outputs": [
    {
     "name": "stdout",
     "output_type": "stream",
     "text": [
      "2    1006353\n",
      "1     108092\n",
      "Name: B5R1A, dtype: int64\n",
      "1.0    211782\n",
      "2.0    105580\n",
      "Name: B5R4A, dtype: int64\n",
      "2.0    154750\n",
      "1.0     57032\n",
      "Name: B5R4B1, dtype: int64\n",
      "1.0    189862\n",
      "2.0     21920\n",
      "Name: B5R4B2, dtype: int64\n",
      "2.0    202857\n",
      "1.0      8925\n",
      "Name: B5R4B3, dtype: int64\n"
     ]
    }
   ],
   "source": [
    "print(sus12_ki['B5R1A'].value_counts())\n",
    "print(sus12_ki['B5R4A'].value_counts())\n",
    "print(sus12_ki['B5R4B1'].value_counts())\n",
    "print(sus12_ki['B5R4B2'].value_counts())\n",
    "print(sus12_ki['B5R4B3'].value_counts())"
   ]
  },
  {
   "cell_type": "markdown",
   "id": "medium-religious",
   "metadata": {},
   "source": [
    "Kunjungan ke Faskes\n",
    "\n",
    "Berapa kali berobat jalan selama 1 bulan terakhir:\n",
    "[Isikan frekuensi berobat jalan untuk setiap fasilitas]\n",
    "\n",
    "- B5R6A ==\tRS pemerintah\n",
    "- B5R6B\t==  RS Swasta\n",
    "- B5R6C\t==  Praktek Dokter/poliklinik\n",
    "- B5R6D\t==  Puskesmas/pustu\n",
    "- B5R6E\t==  Praktek nakes\n",
    "- B5R6F\t==  Praktek batra\n",
    "- B5R6G\t==  Dukun bersalin\n",
    "- B5R6H\t==  Lainnya"
   ]
  },
  {
   "cell_type": "code",
   "execution_count": 5,
   "id": "eligible-participant",
   "metadata": {},
   "outputs": [
    {
     "name": "stdout",
     "output_type": "stream",
     "text": [
      "0.0     131548\n",
      "1.0       6463\n",
      "2.0       1992\n",
      "3.0        516\n",
      "4.0        291\n",
      "5.0         69\n",
      "8.0         48\n",
      "6.0         41\n",
      "7.0         39\n",
      "10.0        24\n",
      "12.0        13\n",
      "15.0         5\n",
      "30.0         5\n",
      "11.0         4\n",
      "9.0          2\n",
      "14.0         2\n",
      "20.0         2\n",
      "27.0         1\n",
      "13.0         1\n",
      "16.0         1\n",
      "Name: B5R6A, dtype: int64\n"
     ]
    }
   ],
   "source": [
    "# Jumlah berobat ke RS Pemerintah\n",
    "print(sus12_ki['B5R6A'].value_counts()) "
   ]
  },
  {
   "cell_type": "code",
   "execution_count": 6,
   "id": "extensive-accused",
   "metadata": {},
   "outputs": [
    {
     "name": "stdout",
     "output_type": "stream",
     "text": [
      "0.0     135672\n",
      "1.0       3625\n",
      "2.0       1330\n",
      "3.0        200\n",
      "4.0        107\n",
      "5.0         40\n",
      "7.0         28\n",
      "10.0        19\n",
      "6.0         16\n",
      "8.0          8\n",
      "12.0         6\n",
      "11.0         3\n",
      "15.0         3\n",
      "20.0         3\n",
      "9.0          2\n",
      "21.0         2\n",
      "22.0         1\n",
      "13.0         1\n",
      "30.0         1\n",
      "Name: B5R6B, dtype: int64\n"
     ]
    }
   ],
   "source": [
    "# Jumlah berobat ke RS Swasta\n",
    "print(sus12_ki['B5R6B'].value_counts())"
   ]
  },
  {
   "cell_type": "code",
   "execution_count": 7,
   "id": "traditional-wales",
   "metadata": {},
   "outputs": [
    {
     "name": "stdout",
     "output_type": "stream",
     "text": [
      "0.0     105045\n",
      "1.0      28289\n",
      "2.0       5420\n",
      "3.0       1431\n",
      "4.0        593\n",
      "5.0        146\n",
      "6.0         51\n",
      "7.0         29\n",
      "10.0        20\n",
      "8.0         17\n",
      "11.0         8\n",
      "12.0         4\n",
      "20.0         4\n",
      "14.0         3\n",
      "30.0         2\n",
      "15.0         2\n",
      "18.0         2\n",
      "9.0          1\n",
      "Name: B5R6C, dtype: int64\n"
     ]
    }
   ],
   "source": [
    "# Jumlah yang pergi ke praktek dokter/poliklinik\n",
    "print(sus12_ki['B5R6C'].value_counts())"
   ]
  },
  {
   "cell_type": "markdown",
   "id": "after-gates",
   "metadata": {},
   "source": [
    "Perilaku Penggunaan Kontrasepsi \n",
    "1. sedang menggunakan KB, \n",
    "2. Tidak menggunakan KB lagi \n",
    "3. Tidak pernah menggunakan KB"
   ]
  },
  {
   "cell_type": "code",
   "execution_count": 8,
   "id": "brief-rogers",
   "metadata": {},
   "outputs": [
    {
     "name": "stdout",
     "output_type": "stream",
     "text": [
      "1.0    126050\n",
      "3.0     97762\n",
      "2.0     93978\n",
      "Name: B5R35, dtype: int64\n"
     ]
    }
   ],
   "source": [
    "print(sus12_ki['B5R35'].value_counts())"
   ]
  },
  {
   "cell_type": "code",
   "execution_count": 9,
   "id": "sufficient-prophet",
   "metadata": {},
   "outputs": [
    {
     "data": {
      "text/plain": [
       "count    317790.000000\n",
       "mean          1.910985\n",
       "std           0.834479\n",
       "min           1.000000\n",
       "25%           1.000000\n",
       "50%           2.000000\n",
       "75%           3.000000\n",
       "max           3.000000\n",
       "Name: B5R35, dtype: float64"
      ]
     },
     "execution_count": 9,
     "metadata": {},
     "output_type": "execute_result"
    }
   ],
   "source": [
    "sus12_ki['B5R35'].describe()"
   ]
  },
  {
   "cell_type": "code",
   "execution_count": 20,
   "id": "patent-member",
   "metadata": {},
   "outputs": [
    {
     "name": "stdout",
     "output_type": "stream",
     "text": [
      "2.5068598760187544\n",
      "0.39890542330117806\n"
     ]
    }
   ],
   "source": [
    "# kenapa jumlah NaN lebih tinggi dibanding count ya?\n",
    "print(sus12_ki['B5R35'].isna().values.sum() / sus12_ki['B5R35'].count())\n",
    "print(sus12_ki['B5R35'].count() / sus12_ki['B5R35'].isna().values.sum())"
   ]
  },
  {
   "cell_type": "markdown",
   "id": "extended-dance",
   "metadata": {},
   "source": [
    "Butir metode penggunaan KB:\n",
    "\n",
    "1. MOW/tubektomi\n",
    "2. MOP/vasektomi\n",
    "3. AKDR/IUD/spiral\n",
    "4. Suntikan KB\n",
    "5. Susuk KB/norplan/implanon/alwalit\n",
    "6. Pil KB\n",
    "7. Kondom/karet KB\n",
    "8. Intravag/tisue\n",
    "9. Kondom wanita / menstrual cup(?)\n",
    "10. Cara tradisional"
   ]
  },
  {
   "cell_type": "code",
   "execution_count": 21,
   "id": "champion-strike",
   "metadata": {},
   "outputs": [
    {
     "data": {
      "text/plain": [
       "126049"
      ]
     },
     "execution_count": 21,
     "metadata": {},
     "output_type": "execute_result"
    }
   ],
   "source": [
    "sus12_ki['B5R36'].count()"
   ]
  },
  {
   "cell_type": "code",
   "execution_count": 22,
   "id": "wicked-genius",
   "metadata": {},
   "outputs": [
    {
     "data": {
      "text/plain": [
       "4.0     70870\n",
       "6.0     29842\n",
       "5.0      8364\n",
       "3.0      8258\n",
       "1.0      4085\n",
       "10.0     2766\n",
       "7.0      1014\n",
       "2.0       709\n",
       "9.0        96\n",
       "8.0        45\n",
       "Name: B5R36, dtype: int64"
      ]
     },
     "execution_count": 22,
     "metadata": {},
     "output_type": "execute_result"
    }
   ],
   "source": [
    "sus12_ki['B5R36'].value_counts()"
   ]
  },
  {
   "cell_type": "code",
   "execution_count": 24,
   "id": "comprehensive-birth",
   "metadata": {},
   "outputs": [
    {
     "name": "stdout",
     "output_type": "stream",
     "text": [
      "7.841363279359614\n",
      "0.12752884471406198\n"
     ]
    }
   ],
   "source": [
    "# Kok yang count lebih rendah dibanding NaN ya?\n",
    "print(sus12_ki['B5R36'].isna().values.sum()/sus12_ki['B5R36'].count())\n",
    "print(sus12_ki['B5R36'].count() / sus12_ki['B5R36'].isna().values.sum())"
   ]
  },
  {
   "cell_type": "markdown",
   "id": "amazing-photographer",
   "metadata": {},
   "source": [
    "Bagi yang tidak menggunakan KB, apa masih ingin mempunyai anak\n",
    "1. Ya, segera (< 2 tahun)\n",
    "2. Ya, kemudian ( ≥ 2 tahun)\n",
    "3. Tidak"
   ]
  },
  {
   "cell_type": "code",
   "execution_count": 25,
   "id": "concerned-building",
   "metadata": {},
   "outputs": [
    {
     "data": {
      "text/plain": [
       "3.0    143670\n",
       "1.0     33550\n",
       "2.0     14520\n",
       "Name: B5R37, dtype: int64"
      ]
     },
     "execution_count": 25,
     "metadata": {},
     "output_type": "execute_result"
    }
   ],
   "source": [
    "sus12_ki['B5R37'].value_counts()"
   ]
  },
  {
   "cell_type": "code",
   "execution_count": 26,
   "id": "activated-modern",
   "metadata": {},
   "outputs": [
    {
     "name": "stdout",
     "output_type": "stream",
     "text": [
      "0.20780206024677442\n",
      "4.812271826431626\n"
     ]
    }
   ],
   "source": [
    "# Kenapa jumlah count lebih rendah dibanding Nan ya?\n",
    "print(sus12_ki['B5R37'].count() / sus12_ki['B5R37'].isna().values.sum())\n",
    "print(sus12_ki['B5R37'].isna().values.sum() / sus12_ki['B5R37'].count())"
   ]
  },
  {
   "cell_type": "markdown",
   "id": "cathedral-essay",
   "metadata": {},
   "source": [
    "Alasan utama tidak ber-KB:\n",
    "1. Alasan fertilitas (mandul, menopause, puasa\n",
    "kumpul, tradisi, ingin punya anak) # jujur yang ini ambigu soalnya banyak banget yang dimasukkin\n",
    "2. Tidak setuju KB\n",
    "3. Tidak tahu alat/cara KB\n",
    "4. Takut efek samping alat/cara KB\n",
    "5. Tidak tahu\n",
    "6. Lainnya (................................................................)\n",
    "\n",
    "Lucunya yang terbanyak di sini Alasan fertilitas sama Lainnya, susah dapat insight di sini.\n",
    "\n",
    "Kalo mandul sih bisa liat umur, entahlah kalo yang lain? Still wanna give this one a go?"
   ]
  },
  {
   "cell_type": "code",
   "execution_count": 27,
   "id": "tutorial-highland",
   "metadata": {},
   "outputs": [
    {
     "name": "stdout",
     "output_type": "stream",
     "text": [
      "count    158190.000000\n",
      "mean          2.363095\n",
      "std           2.014585\n",
      "min           1.000000\n",
      "25%           1.000000\n",
      "50%           1.000000\n",
      "75%           4.000000\n",
      "max           6.000000\n",
      "Name: B5R38, dtype: float64\n",
      "1.0    103885\n",
      "6.0     26185\n",
      "4.0     12320\n",
      "5.0      9801\n",
      "2.0      3459\n",
      "3.0      2540\n",
      "Name: B5R38, dtype: int64\n"
     ]
    }
   ],
   "source": [
    "print(sus12_ki['B5R38'].describe())\n",
    "print(sus12_ki['B5R38'].value_counts())"
   ]
  },
  {
   "cell_type": "code",
   "execution_count": 28,
   "id": "suspended-adobe",
   "metadata": {},
   "outputs": [
    {
     "name": "stdout",
     "output_type": "stream",
     "text": [
      "0.16542658600477905\n",
      "6.0449775586320245\n"
     ]
    }
   ],
   "source": [
    "# baru ini yang perbandingan nya NaN lebih kecil dibanding count\n",
    "print(sus12_ki['B5R38'].count() / sus12_ki['B5R38'].isna().values.sum())\n",
    "print(sus12_ki['B5R38'].isna().values.sum() / sus12_ki['B5R38'].count())"
   ]
  },
  {
   "cell_type": "code",
   "execution_count": null,
   "id": "strange-evidence",
   "metadata": {},
   "outputs": [],
   "source": []
  }
 ],
 "metadata": {
  "kernelspec": {
   "display_name": "Python 3",
   "language": "python",
   "name": "python3"
  },
  "language_info": {
   "codemirror_mode": {
    "name": "ipython",
    "version": 3
   },
   "file_extension": ".py",
   "mimetype": "text/x-python",
   "name": "python",
   "nbconvert_exporter": "python",
   "pygments_lexer": "ipython3",
   "version": "3.8.5"
  }
 },
 "nbformat": 4,
 "nbformat_minor": 5
}
