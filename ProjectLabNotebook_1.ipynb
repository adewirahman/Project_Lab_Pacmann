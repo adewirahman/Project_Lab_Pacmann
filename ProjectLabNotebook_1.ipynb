{
 "cells": [
  {
   "cell_type": "code",
   "execution_count": 2,
   "id": "central-shore",
   "metadata": {},
   "outputs": [],
   "source": [
    "import pandas as pd\n",
    "import numpy as np\n",
    "import datetime as dt\n",
    "import matplotlib.pyplot as plt\n",
    "import statsmodels.api as sm\n",
    "import os\n",
    "import random"
   ]
  },
  {
   "cell_type": "code",
   "execution_count": 4,
   "id": "distinguished-tuesday",
   "metadata": {},
   "outputs": [],
   "source": [
    "# Susenas 2012\n",
    "sus12_ki = pd.read_csv('/home/ade/Documents/Project_Lab_Pacmann/susenas12/sn12_ki.csv')\n",
    "sus12_kr = pd.read_csv('/home/ade/Documents/Project_Lab_Pacmann/susenas12/sn12_krt.csv')\n",
    "\n",
    "# Susenas 2013\n",
    "sus13_ki = pd.read_csv('~/Documents/Project_Lab_Pacmann/susenas13/sn13_ki.csv')\n",
    "sus13_kr = pd.read_csv('~/Documents/Project_Lab_Pacmann/susenas13/sn13_krt.csv')\n",
    "\n",
    "# Susenas Modul Konsumsi\n",
    "sus13_m41 = pd.read_csv('~/Documents/Project_Lab_Pacmann/susenas13/sn13_m41.csv')\n",
    "sus12_m41p1 = pd.read_csv('/home/ade/Documents/Project_Lab_Pacmann/susenas12/sn12_m41p1.csv') # part 1 susenas 2012\n",
    "\n",
    "# Poverty Line Susenas 2013\n",
    "poverty_line = pd.read_csv(\"~/Documents/Project_Lab_Pacmann/susenas13/pov_line.csv\")\n",
    "poverty = pd.read_csv(\"~/Documents/Project_Lab_Pacmann/susenas13/poverty.csv\")"
   ]
  },
  {
   "cell_type": "markdown",
   "id": "applicable-hotel",
   "metadata": {},
   "source": [
    "Eksplor perilaku kunjungan ke nakes bila ada keluhan kesehatan\n",
    "\n",
    "- B5R1A\n",
    "\n",
    "Apakah dalam 1 bulan terakhir mempunyai keluhan kesehatan seperti di bawah ini? (Bacakan dari a s.d. h)\n",
    "[Isikan kode 1 bila ada, kode 2 bila tidak ada]\n",
    "\n",
    "- B5R4A\n",
    "Apakah pernah mengobati sendiri dalam 1 bulan\n",
    "terakhir? \n",
    "1. Ya\n",
    "2. Tidak  [R.5]\n",
    "\n",
    "Jenis obat/cara pengobatan yang digunakan:\n",
    "[Isikan kode 1 bila ya, kode 2 bila tidak]\n",
    "\n",
    "- B54RB1. Tradisional\n",
    "- B54RB2. Modern\n",
    "- B54RB3. Lainnya"
   ]
  },
  {
   "cell_type": "code",
   "execution_count": 5,
   "id": "comprehensive-pharmacology",
   "metadata": {},
   "outputs": [
    {
     "name": "stdout",
     "output_type": "stream",
     "text": [
      "2    1006353\n",
      "1     108092\n",
      "Name: B5R1A, dtype: int64\n",
      "1.0    211782\n",
      "2.0    105580\n",
      "Name: B5R4A, dtype: int64\n",
      "2.0    154750\n",
      "1.0     57032\n",
      "Name: B5R4B1, dtype: int64\n",
      "1.0    189862\n",
      "2.0     21920\n",
      "Name: B5R4B2, dtype: int64\n",
      "2.0    202857\n",
      "1.0      8925\n",
      "Name: B5R4B3, dtype: int64\n"
     ]
    }
   ],
   "source": [
    "print(sus12_ki['B5R1A'].value_counts())\n",
    "print(sus12_ki['B5R4A'].value_counts())\n",
    "print(sus12_ki['B5R4B1'].value_counts())\n",
    "print(sus12_ki['B5R4B2'].value_counts())\n",
    "print(sus12_ki['B5R4B3'].value_counts())"
   ]
  },
  {
   "cell_type": "markdown",
   "id": "saving-chuck",
   "metadata": {},
   "source": [
    "Kunjungan ke Faskes\n",
    "\n",
    "Berapa kali berobat jalan selama 1 bulan terakhir:\n",
    "[Isikan frekuensi berobat jalan untuk setiap fasilitas]\n",
    "\n",
    "- B5R6A ==\tRS pemerintah\n",
    "- B5R6B\t==  RS Swasta\n",
    "- B5R6C\t==  Praktek Dokter/poliklinik\n",
    "- B5R6D\t==  Puskesmas/pustu\n",
    "- B5R6E\t==  Praktek nakes\n",
    "- B5R6F\t==  Praktek batra\n",
    "- B5R6G\t==  Dukun bersalin\n",
    "- B5R6H\t==  Lainnya"
   ]
  },
  {
   "cell_type": "code",
   "execution_count": 6,
   "id": "liked-maximum",
   "metadata": {},
   "outputs": [
    {
     "name": "stdout",
     "output_type": "stream",
     "text": [
      "0.0     131548\n",
      "1.0       6463\n",
      "2.0       1992\n",
      "3.0        516\n",
      "4.0        291\n",
      "5.0         69\n",
      "8.0         48\n",
      "6.0         41\n",
      "7.0         39\n",
      "10.0        24\n",
      "12.0        13\n",
      "15.0         5\n",
      "30.0         5\n",
      "11.0         4\n",
      "9.0          2\n",
      "14.0         2\n",
      "20.0         2\n",
      "27.0         1\n",
      "13.0         1\n",
      "16.0         1\n",
      "Name: B5R6A, dtype: int64\n"
     ]
    }
   ],
   "source": [
    "# Jumlah berobat ke RS Pemerintah\n",
    "print(sus12_ki['B5R6A'].value_counts()) "
   ]
  },
  {
   "cell_type": "code",
   "execution_count": 6,
   "id": "tight-olympus",
   "metadata": {},
   "outputs": [
    {
     "name": "stdout",
     "output_type": "stream",
     "text": [
      "0.0     135672\n",
      "1.0       3625\n",
      "2.0       1330\n",
      "3.0        200\n",
      "4.0        107\n",
      "5.0         40\n",
      "7.0         28\n",
      "10.0        19\n",
      "6.0         16\n",
      "8.0          8\n",
      "12.0         6\n",
      "11.0         3\n",
      "15.0         3\n",
      "20.0         3\n",
      "9.0          2\n",
      "21.0         2\n",
      "22.0         1\n",
      "13.0         1\n",
      "30.0         1\n",
      "Name: B5R6B, dtype: int64\n"
     ]
    }
   ],
   "source": [
    "# Jumlah berobat ke RS Swasta\n",
    "print(sus12_ki['B5R6B'].value_counts())"
   ]
  },
  {
   "cell_type": "code",
   "execution_count": 7,
   "id": "devoted-radiation",
   "metadata": {},
   "outputs": [
    {
     "name": "stdout",
     "output_type": "stream",
     "text": [
      "0.0     105045\n",
      "1.0      28289\n",
      "2.0       5420\n",
      "3.0       1431\n",
      "4.0        593\n",
      "5.0        146\n",
      "6.0         51\n",
      "7.0         29\n",
      "10.0        20\n",
      "8.0         17\n",
      "11.0         8\n",
      "12.0         4\n",
      "20.0         4\n",
      "14.0         3\n",
      "30.0         2\n",
      "15.0         2\n",
      "18.0         2\n",
      "9.0          1\n",
      "Name: B5R6C, dtype: int64\n"
     ]
    }
   ],
   "source": [
    "# Jumlah yang pergi ke praktek dokter/poliklinik\n",
    "print(sus12_ki['B5R6C'].value_counts())"
   ]
  },
  {
   "cell_type": "markdown",
   "id": "integrated-domestic",
   "metadata": {},
   "source": [
    "Perilaku Penggunaan Kontrasepsi \n",
    "1. sedang menggunakan KB, \n",
    "2. Tidak menggunakan KB lagi \n",
    "3. Tidak pernah menggunakan KB"
   ]
  },
  {
   "cell_type": "code",
   "execution_count": 8,
   "id": "exceptional-coaching",
   "metadata": {},
   "outputs": [
    {
     "name": "stdout",
     "output_type": "stream",
     "text": [
      "1.0    126050\n",
      "3.0     97762\n",
      "2.0     93978\n",
      "Name: B5R35, dtype: int64\n"
     ]
    }
   ],
   "source": [
    "print(sus12_ki['B5R35'].value_counts())"
   ]
  },
  {
   "cell_type": "code",
   "execution_count": 9,
   "id": "moving-wealth",
   "metadata": {},
   "outputs": [
    {
     "data": {
      "text/plain": [
       "count    317790.000000\n",
       "mean          1.910985\n",
       "std           0.834479\n",
       "min           1.000000\n",
       "25%           1.000000\n",
       "50%           2.000000\n",
       "75%           3.000000\n",
       "max           3.000000\n",
       "Name: B5R35, dtype: float64"
      ]
     },
     "execution_count": 9,
     "metadata": {},
     "output_type": "execute_result"
    }
   ],
   "source": [
    "sus12_ki['B5R35'].describe()"
   ]
  },
  {
   "cell_type": "code",
   "execution_count": 10,
   "id": "arctic-receipt",
   "metadata": {},
   "outputs": [
    {
     "name": "stdout",
     "output_type": "stream",
     "text": [
      "2.5068598760187544\n",
      "0.39890542330117806\n"
     ]
    }
   ],
   "source": [
    "# kenapa jumlah NaN lebih tinggi dibanding count ya?\n",
    "print(sus12_ki['B5R35'].isna().values.sum() / sus12_ki['B5R35'].count())\n",
    "print(sus12_ki['B5R35'].count() / sus12_ki['B5R35'].isna().values.sum())"
   ]
  },
  {
   "cell_type": "markdown",
   "id": "potential-hammer",
   "metadata": {},
   "source": [
    "Butir metode penggunaan KB:\n",
    "\n",
    "1. MOW/tubektomi\n",
    "2. MOP/vasektomi\n",
    "3. AKDR/IUD/spiral\n",
    "4. Suntikan KB\n",
    "5. Susuk KB/norplan/implanon/alwalit\n",
    "6. Pil KB\n",
    "7. Kondom/karet KB\n",
    "8. Intravag/tisue\n",
    "9. Kondom wanita / menstrual cup(?)\n",
    "10. Cara tradisional"
   ]
  },
  {
   "cell_type": "code",
   "execution_count": 11,
   "id": "raised-terrace",
   "metadata": {},
   "outputs": [
    {
     "data": {
      "text/plain": [
       "126049"
      ]
     },
     "execution_count": 11,
     "metadata": {},
     "output_type": "execute_result"
    }
   ],
   "source": [
    "sus12_ki['B5R36'].count()"
   ]
  },
  {
   "cell_type": "code",
   "execution_count": 12,
   "id": "usual-southeast",
   "metadata": {},
   "outputs": [
    {
     "data": {
      "text/plain": [
       "4.0     70870\n",
       "6.0     29842\n",
       "5.0      8364\n",
       "3.0      8258\n",
       "1.0      4085\n",
       "10.0     2766\n",
       "7.0      1014\n",
       "2.0       709\n",
       "9.0        96\n",
       "8.0        45\n",
       "Name: B5R36, dtype: int64"
      ]
     },
     "execution_count": 12,
     "metadata": {},
     "output_type": "execute_result"
    }
   ],
   "source": [
    "sus12_ki['B5R36'].value_counts()"
   ]
  },
  {
   "cell_type": "code",
   "execution_count": 13,
   "id": "enclosed-government",
   "metadata": {},
   "outputs": [
    {
     "name": "stdout",
     "output_type": "stream",
     "text": [
      "7.841363279359614\n",
      "0.12752884471406198\n"
     ]
    }
   ],
   "source": [
    "# Kok yang count lebih rendah dibanding NaN ya?\n",
    "print(sus12_ki['B5R36'].isna().values.sum()/sus12_ki['B5R36'].count())\n",
    "print(sus12_ki['B5R36'].count() / sus12_ki['B5R36'].isna().values.sum())"
   ]
  },
  {
   "cell_type": "markdown",
   "id": "identical-oklahoma",
   "metadata": {},
   "source": [
    "Bagi yang tidak menggunakan KB, apa masih ingin mempunyai anak\n",
    "1. Ya, segera (< 2 tahun)\n",
    "2. Ya, kemudian ( ≥ 2 tahun)\n",
    "3. Tidak"
   ]
  },
  {
   "cell_type": "code",
   "execution_count": 14,
   "id": "canadian-future",
   "metadata": {},
   "outputs": [
    {
     "data": {
      "text/plain": [
       "3.0    143670\n",
       "1.0     33550\n",
       "2.0     14520\n",
       "Name: B5R37, dtype: int64"
      ]
     },
     "execution_count": 14,
     "metadata": {},
     "output_type": "execute_result"
    }
   ],
   "source": [
    "sus12_ki['B5R37'].value_counts()"
   ]
  },
  {
   "cell_type": "code",
   "execution_count": 15,
   "id": "coupled-window",
   "metadata": {},
   "outputs": [
    {
     "name": "stdout",
     "output_type": "stream",
     "text": [
      "0.20780206024677442\n",
      "4.812271826431626\n"
     ]
    }
   ],
   "source": [
    "# Kenapa jumlah count lebih rendah dibanding Nan ya?\n",
    "print(sus12_ki['B5R37'].count() / sus12_ki['B5R37'].isna().values.sum())\n",
    "print(sus12_ki['B5R37'].isna().values.sum() / sus12_ki['B5R37'].count())"
   ]
  },
  {
   "cell_type": "markdown",
   "id": "eight-forwarding",
   "metadata": {},
   "source": [
    "Alasan utama tidak ber-KB:\n",
    "1. Alasan fertilitas (mandul, menopause, puasa\n",
    "kumpul, tradisi, ingin punya anak) # jujur yang ini ambigu soalnya banyak banget yang dimasukkin\n",
    "2. Tidak setuju KB\n",
    "3. Tidak tahu alat/cara KB\n",
    "4. Takut efek samping alat/cara KB\n",
    "5. Tidak tahu\n",
    "6. Lainnya (................................................................)\n",
    "\n",
    "Lucunya yang terbanyak di sini Alasan fertilitas sama Lainnya, susah dapat insight di sini.\n",
    "\n",
    "Kalo mandul sih bisa liat umur, entahlah kalo yang lain? Still wanna give this one a go?"
   ]
  },
  {
   "cell_type": "code",
   "execution_count": 16,
   "id": "expected-polish",
   "metadata": {},
   "outputs": [
    {
     "name": "stdout",
     "output_type": "stream",
     "text": [
      "count    158190.000000\n",
      "mean          2.363095\n",
      "std           2.014585\n",
      "min           1.000000\n",
      "25%           1.000000\n",
      "50%           1.000000\n",
      "75%           4.000000\n",
      "max           6.000000\n",
      "Name: B5R38, dtype: float64\n",
      "1.0    103885\n",
      "6.0     26185\n",
      "4.0     12320\n",
      "5.0      9801\n",
      "2.0      3459\n",
      "3.0      2540\n",
      "Name: B5R38, dtype: int64\n"
     ]
    }
   ],
   "source": [
    "print(sus12_ki['B5R38'].describe())\n",
    "print(sus12_ki['B5R38'].value_counts())"
   ]
  },
  {
   "cell_type": "code",
   "execution_count": 17,
   "id": "appreciated-prescription",
   "metadata": {},
   "outputs": [
    {
     "name": "stdout",
     "output_type": "stream",
     "text": [
      "0.16542658600477905\n",
      "6.0449775586320245\n"
     ]
    }
   ],
   "source": [
    "# baru ini yang perbandingan nya NaN lebih kecil dibanding count\n",
    "print(sus12_ki['B5R38'].count() / sus12_ki['B5R38'].isna().values.sum())\n",
    "print(sus12_ki['B5R38'].isna().values.sum() / sus12_ki['B5R38'].count())"
   ]
  },
  {
   "cell_type": "markdown",
   "id": "reliable-coalition",
   "metadata": {},
   "source": [
    "Mau liat dulu gimana pembagian perkotaan vs perdesaan"
   ]
  },
  {
   "cell_type": "code",
   "execution_count": 18,
   "id": "unknown-platform",
   "metadata": {},
   "outputs": [
    {
     "name": "stdout",
     "output_type": "stream",
     "text": [
      "477931\n"
     ]
    }
   ],
   "source": [
    "perkotaan_ki12 = len(sus12_ki[sus12_ki['B1R5'] == 1])\n",
    "print(perkotaan_ki12)"
   ]
  },
  {
   "cell_type": "code",
   "execution_count": 19,
   "id": "passive-marketplace",
   "metadata": {},
   "outputs": [
    {
     "name": "stdout",
     "output_type": "stream",
     "text": [
      "0.4288511321779002\n"
     ]
    }
   ],
   "source": [
    "total_ki12 = len(sus12_ki)\n",
    "proporsi = perkotaan_ki12 / total_ki12\n",
    "print(proporsi)"
   ]
  },
  {
   "cell_type": "code",
   "execution_count": 20,
   "id": "deluxe-sphere",
   "metadata": {},
   "outputs": [
    {
     "name": "stdout",
     "output_type": "stream",
     "text": [
      "0.5711488678220998\n"
     ]
    }
   ],
   "source": [
    "perdesaan_ki12 = len(sus12_ki[sus12_ki['B1R5'] == 2])\n",
    "proporsi2 = perdesaan_ki12 / total_ki12\n",
    "print(proporsi2)"
   ]
  },
  {
   "cell_type": "code",
   "execution_count": 21,
   "id": "presidential-intensity",
   "metadata": {},
   "outputs": [
    {
     "name": "stdout",
     "output_type": "stream",
     "text": [
      "0.0\n"
     ]
    }
   ],
   "source": [
    "desakota_ki12 = len(sus12_ki[sus12_ki['B1R5'] == 9])\n",
    "proporsi3 = desakota_ki12 / total_ki12\n",
    "print(proporsi3)"
   ]
  },
  {
   "cell_type": "markdown",
   "id": "spare-plant",
   "metadata": {},
   "source": [
    "Liat yang dataset rumah tangga juga"
   ]
  },
  {
   "cell_type": "code",
   "execution_count": 22,
   "id": "developed-flood",
   "metadata": {},
   "outputs": [
    {
     "name": "stdout",
     "output_type": "stream",
     "text": [
      "0.4294142524107608\n"
     ]
    }
   ],
   "source": [
    "perkotaan_kr12 = len(sus12_kr[sus12_kr['B1R5'] == 1])\n",
    "total_kr12 = len(sus12_kr)\n",
    "\n",
    "proporsi4 = perkotaan_kr12 / total_kr12\n",
    "print(proporsi4)"
   ]
  },
  {
   "cell_type": "code",
   "execution_count": 23,
   "id": "pediatric-vacation",
   "metadata": {},
   "outputs": [
    {
     "name": "stdout",
     "output_type": "stream",
     "text": [
      "0.5705857475892392\n"
     ]
    }
   ],
   "source": [
    "desa_kr12 = len(sus12_kr[sus12_kr['B1R5'] == 2])\n",
    "\n",
    "proporsi5 = desa_kr12 / total_kr12\n",
    "print(proporsi5)"
   ]
  },
  {
   "cell_type": "markdown",
   "id": "altered-tunnel",
   "metadata": {},
   "source": [
    "Coba groupby pake status kota desa, merasa cukup ato engga pake pengeluaran"
   ]
  },
  {
   "cell_type": "code",
   "execution_count": 24,
   "id": "dressed-iceland",
   "metadata": {},
   "outputs": [
    {
     "data": {
      "text/plain": [
       "B1R5  B7R5A\n",
       "1     1        731357.142857\n",
       "      2        442644.642857\n",
       "2     1        467235.119048\n",
       "      2        344964.523810\n",
       "Name: EXP_CAP, dtype: float64"
      ]
     },
     "execution_count": 24,
     "metadata": {},
     "output_type": "execute_result"
    }
   ],
   "source": [
    "sus12_kr.groupby(['B1R5', 'B7R5A']).median()['EXP_CAP']"
   ]
  },
  {
   "cell_type": "markdown",
   "id": "configured-legislation",
   "metadata": {},
   "source": [
    "Sekarang mau liat pemakaian KB berdasarkan lokasi tinggal desa/kota, ama pengeluaran"
   ]
  },
  {
   "cell_type": "code",
   "execution_count": 25,
   "id": "quarterly-mediterranean",
   "metadata": {},
   "outputs": [
    {
     "data": {
      "text/plain": [
       "B1R5  B5R35\n",
       "1     1.0      53855\n",
       "      2.0      44776\n",
       "      3.0      36211\n",
       "2     1.0      72195\n",
       "      2.0      49202\n",
       "      3.0      61551\n",
       "Name: EXP_CAP, dtype: int64"
      ]
     },
     "execution_count": 25,
     "metadata": {},
     "output_type": "execute_result"
    }
   ],
   "source": [
    "sus12_ki.groupby(['B1R5', 'B5R35']).count()['EXP_CAP']"
   ]
  },
  {
   "cell_type": "markdown",
   "id": "elder-seeking",
   "metadata": {},
   "source": [
    "Sekarang berdasarkan pendidikan (ijazah yang dicapai)"
   ]
  },
  {
   "cell_type": "code",
   "execution_count": 26,
   "id": "mobile-alaska",
   "metadata": {},
   "outputs": [
    {
     "data": {
      "text/plain": [
       "B1R5  B5R35\n",
       "1     1.0      53174\n",
       "      2.0      42296\n",
       "      3.0      31110\n",
       "2     1.0      69506\n",
       "      2.0      43102\n",
       "      3.0      45012\n",
       "Name: B5R17, dtype: int64"
      ]
     },
     "execution_count": 26,
     "metadata": {},
     "output_type": "execute_result"
    }
   ],
   "source": [
    "sus12_ki.groupby(['B1R5', 'B5R35']).count()['B5R17']"
   ]
  },
  {
   "cell_type": "markdown",
   "id": "adjustable-award",
   "metadata": {},
   "source": [
    "Sekarang ditambah umur"
   ]
  },
  {
   "cell_type": "code",
   "execution_count": 27,
   "id": "exotic-thirty",
   "metadata": {},
   "outputs": [
    {
     "data": {
      "text/plain": [
       "B1R5  B5R35  UMUR\n",
       "1     1.0    13        1\n",
       "             15        2\n",
       "             16       19\n",
       "             17       60\n",
       "             18      142\n",
       "                    ... \n",
       "2     3.0    94       20\n",
       "             95       38\n",
       "             96       22\n",
       "             97       27\n",
       "             98      141\n",
       "Name: EXP_CAP, Length: 484, dtype: int64"
      ]
     },
     "execution_count": 27,
     "metadata": {},
     "output_type": "execute_result"
    }
   ],
   "source": [
    "sus12_ki.groupby(['B1R5', 'B5R35', 'UMUR']).count()['EXP_CAP']"
   ]
  },
  {
   "cell_type": "markdown",
   "id": "friendly-sheriff",
   "metadata": {},
   "source": [
    "Susenas merupakan dataset yang berukuran besar dan memiliki variabel yang biasanya lebih banyak dari yang kita perlukan. Oleh karena itu, salah satu dari hal yang ingin kita lakukan adalah memilih terlebih dahulu variabel-variabel yang ingin kita masukkan ke dalam analisis yang ingin kita lakukan. Salah satu cara paling mudah untuk memilih variabel yang ingin kita lakukan adalah dengan melihat kuesioner Susenas. \n",
    "\n",
    "Dalam konteks project lab ini, kita akan melihat dan memvisualisasikan secara sederhana faktor-faktor yang memengaruhi akses masyarakat terhadap penggunaan alat KB. Beberapa variabel yang mungkin berpengaruh adalah:\n",
    "\n",
    "1. Pendapatan (hipotesis: semakin tinggi pendapatan, lebih banyak memakai alat KB)\n",
    "2. Tempat tinggal (hipotesis: daerah perkotaan lebih banyak memakai alat KB)\n",
    "3. Tingkat pendidikan (hipotesis: semakin tinggi tingkat pendidikan, semakin banyak memakai alat KB)\n",
    "4. Umur (hipotesis: penduduk yang lebih muda cenderung lebih mungkin memakai alat KB)\n",
    "\n",
    "Apabila kita tertarik untuk melihat variasi antar tahun, kita harus memastikan bahwa data yang kita buat adalah data panel. Kita akan mengagregasikan (*collapsing*) data ke level kabupaten/kota. Dalam tutorial kali ini, kita tidak perlu terlalu memperhatikan masalah perubahan batas administrasi karena data yang kita miliki (Susenas 2012 dan 2013), tidak mengalami perubahan. \n",
    "\n",
    "Meskipun kita memiliki dua tahun observasi Susenas dalam kasus ini, kita condong pada menggunakan hanya tahun 2012 sebagai observasi. Mengapa?\n",
    "1. Data Susenas 2012 Kor yang kita miliki merupakan *pooled* data dari survei gelombang Maret, Juni, September, dan Desember sehingga terdapat sekitar 1,1 juta individu dan 286 ribu rumah tangga unik yang disurvei\n",
    "2. Data Susenas 2013 Kor yang kita miliki hanya merupakan data dari survei gelombang Maret sehingga hanya terdapat sekitar 274,051 observasi dan 69 ribu rumah tangga unik yang disurvei\n",
    "\n",
    "Merujuk pada isu tentang data Susenas (sila lihat bahan presentasi), kita mengetahui bahwa data Susenas 2013 yang kita miliki representatif bila diagregasi maksimal hingga di tingkat provinsi. Hal ini menjadi bermasalah apabila kita ingin menggunakan data Susenas yang diagregasi untuk melakukan regresi sederhana karena apabila kita ingin mengagregasi ke tingkat provinsi, kita hanya akan mendapat __n=68__ (2 tahun dikali 34 provinsi). Oleh karena itu, dalam tutorial kali ini, kita akan menggunakan dua jenis data, yaitu:\n",
    "1. Data Susenas Kor 2012, tingkat individu\n",
    "2. Data Susenas Kor 2012, tingkat kabupaten/kota (*groupby* ke kabupaten/kota)"
   ]
  },
  {
   "cell_type": "code",
   "execution_count": 28,
   "id": "differential-desktop",
   "metadata": {},
   "outputs": [
    {
     "data": {
      "text/html": [
       "<div>\n",
       "<style scoped>\n",
       "    .dataframe tbody tr th:only-of-type {\n",
       "        vertical-align: middle;\n",
       "    }\n",
       "\n",
       "    .dataframe tbody tr th {\n",
       "        vertical-align: top;\n",
       "    }\n",
       "\n",
       "    .dataframe thead th {\n",
       "        text-align: right;\n",
       "    }\n",
       "</style>\n",
       "<table border=\"1\" class=\"dataframe\">\n",
       "  <thead>\n",
       "    <tr style=\"text-align: right;\">\n",
       "      <th></th>\n",
       "      <th>2012 Individu</th>\n",
       "      <th>2012 Ruta</th>\n",
       "      <th>2013 Individu</th>\n",
       "      <th>2013 Ruta</th>\n",
       "    </tr>\n",
       "  </thead>\n",
       "  <tbody>\n",
       "    <tr>\n",
       "      <th>count</th>\n",
       "      <td>1,114,445</td>\n",
       "      <td>286,113</td>\n",
       "      <td>274,051</td>\n",
       "      <td>70,842</td>\n",
       "    </tr>\n",
       "    <tr>\n",
       "      <th>nunique</th>\n",
       "      <td>286,113</td>\n",
       "      <td>286,113</td>\n",
       "      <td>69,514</td>\n",
       "      <td>69,514</td>\n",
       "    </tr>\n",
       "  </tbody>\n",
       "</table>\n",
       "</div>"
      ],
      "text/plain": [
       "        2012 Individu 2012 Ruta 2013 Individu 2013 Ruta\n",
       "count       1,114,445   286,113       274,051    70,842\n",
       "nunique       286,113   286,113        69,514    69,514"
      ]
     },
     "execution_count": 28,
     "metadata": {},
     "output_type": "execute_result"
    }
   ],
   "source": [
    "# Create Count statistics for our dataset\n",
    "sus12_kr_desc = sus12_kr['URUT'].agg(['count', 'nunique']).transpose()\n",
    "sus12_ki_desc = sus12_ki['URUT'].agg(['count', 'nunique']).transpose()\n",
    "sus13_kr_desc = sus13_kr['urut'].agg(['count', 'nunique']).transpose()\n",
    "sus13_ki_desc = sus13_ki['urut'].agg(['count', 'nunique']).transpose()\n",
    "\n",
    "plot_describe = pd.concat([sus12_ki_desc, sus12_kr_desc, sus13_ki_desc, sus13_kr_desc], axis = 1)\n",
    "plot_describe.columns = ['2012 Individu', '2012 Ruta', '2013 Individu', '2013 Ruta']\n",
    "lst = list(plot_describe.columns)\n",
    "for c in lst:\n",
    "    plot_describe[c] = plot_describe[c].astype(int).apply(lambda x : f'{x:,}')\n",
    "\n",
    "plot_describe"
   ]
  },
  {
   "cell_type": "markdown",
   "id": "saving-level",
   "metadata": {},
   "source": [
    "## Choose Relevant Variables\n",
    "\n",
    "Yeay, now we have counted how many observations each dataset has.\n",
    "\n",
    "It's time we choose the relevant variables.\n",
    "\n",
    "Karena kita akan membatasi analisis kita ke data *cross section*, kita bisa memfokuskan analisis pada variabel yang tersedia di Susenas 2012. \n",
    "\n",
    "Langkah pertama yang kita lakukan adalah mengidentifikasi dan membatasi analisis kita variabel yang menjadi *proxy* pendapatan, lokasi tempat tinggal, tingkat pendidikan, dan umur. Cara paling mudah untuk mencari variabel yang kita butuhkan adalah dengan melihat kuesioner secara langsung dan melihat mana variabel yang paling sesuai. Secara kebetulan, semua variabel yang dibutuhkan ini tersedia di Susenas Kor Individu, sehingga kita tidak memerlukan observasi dari Susenas Kor Rumah Tangga. Variabel yang kita pilih adalah:\n",
    "\n",
    "1. __b1r1__: Kode Provinsi \n",
    "2. __b1r2__: Kode Kabupaten\n",
    "3. __b1r5__: Klasifikasi desa/kelurahan (apakah berstatus daerah perkotaan/pedesaan)\n",
    "4. __b4r5/umur__: Umur/usia responden\n",
    "5. __b5r17__: Ijazah/STTB tertinggi yang dimiliki\n",
    "6. __B5R35__ : Pengguna/memakai alat/cara KB?\n",
    "7. __B5R36__ : Jika sedang menggunakan, alat/cara KB yg sedang digunakan\n",
    "8. __B5R38__ : Alasan utama tidak ber KB\n",
    "9. __exp_cap__: Pengeluaran per kapita"
   ]
  },
  {
   "cell_type": "code",
   "execution_count": 29,
   "id": "secure-blame",
   "metadata": {},
   "outputs": [
    {
     "data": {
      "text/html": [
       "<div>\n",
       "<style scoped>\n",
       "    .dataframe tbody tr th:only-of-type {\n",
       "        vertical-align: middle;\n",
       "    }\n",
       "\n",
       "    .dataframe tbody tr th {\n",
       "        vertical-align: top;\n",
       "    }\n",
       "\n",
       "    .dataframe thead th {\n",
       "        text-align: right;\n",
       "    }\n",
       "</style>\n",
       "<table border=\"1\" class=\"dataframe\">\n",
       "  <thead>\n",
       "    <tr style=\"text-align: right;\">\n",
       "      <th></th>\n",
       "      <th>URUT</th>\n",
       "      <th>B1R1</th>\n",
       "      <th>B1R2</th>\n",
       "      <th>B1R5</th>\n",
       "      <th>UMUR</th>\n",
       "      <th>B5R17</th>\n",
       "      <th>B5R30</th>\n",
       "      <th>B5R35</th>\n",
       "      <th>B5R36</th>\n",
       "      <th>B5R37</th>\n",
       "      <th>B5R38</th>\n",
       "      <th>EXP_CAP</th>\n",
       "      <th>WEIND</th>\n",
       "      <th>bps_2009</th>\n",
       "    </tr>\n",
       "  </thead>\n",
       "  <tbody>\n",
       "    <tr>\n",
       "      <th>0</th>\n",
       "      <td>110112500101601</td>\n",
       "      <td>11</td>\n",
       "      <td>1</td>\n",
       "      <td>1</td>\n",
       "      <td>41</td>\n",
       "      <td>8.0</td>\n",
       "      <td>8.0</td>\n",
       "      <td>NaN</td>\n",
       "      <td>NaN</td>\n",
       "      <td>NaN</td>\n",
       "      <td>NaN</td>\n",
       "      <td>343464.285714</td>\n",
       "      <td>45.876255</td>\n",
       "      <td>1101</td>\n",
       "    </tr>\n",
       "    <tr>\n",
       "      <th>1</th>\n",
       "      <td>110112500101601</td>\n",
       "      <td>11</td>\n",
       "      <td>1</td>\n",
       "      <td>1</td>\n",
       "      <td>30</td>\n",
       "      <td>8.0</td>\n",
       "      <td>NaN</td>\n",
       "      <td>1.0</td>\n",
       "      <td>4.0</td>\n",
       "      <td>NaN</td>\n",
       "      <td>NaN</td>\n",
       "      <td>343464.285714</td>\n",
       "      <td>45.876255</td>\n",
       "      <td>1101</td>\n",
       "    </tr>\n",
       "    <tr>\n",
       "      <th>2</th>\n",
       "      <td>110112500101601</td>\n",
       "      <td>11</td>\n",
       "      <td>1</td>\n",
       "      <td>1</td>\n",
       "      <td>5</td>\n",
       "      <td>1.0</td>\n",
       "      <td>NaN</td>\n",
       "      <td>NaN</td>\n",
       "      <td>NaN</td>\n",
       "      <td>NaN</td>\n",
       "      <td>NaN</td>\n",
       "      <td>343464.285714</td>\n",
       "      <td>45.876255</td>\n",
       "      <td>1101</td>\n",
       "    </tr>\n",
       "    <tr>\n",
       "      <th>3</th>\n",
       "      <td>110112500101601</td>\n",
       "      <td>11</td>\n",
       "      <td>1</td>\n",
       "      <td>1</td>\n",
       "      <td>0</td>\n",
       "      <td>NaN</td>\n",
       "      <td>NaN</td>\n",
       "      <td>NaN</td>\n",
       "      <td>NaN</td>\n",
       "      <td>NaN</td>\n",
       "      <td>NaN</td>\n",
       "      <td>343464.285714</td>\n",
       "      <td>45.876255</td>\n",
       "      <td>1101</td>\n",
       "    </tr>\n",
       "    <tr>\n",
       "      <th>4</th>\n",
       "      <td>110112500101602</td>\n",
       "      <td>11</td>\n",
       "      <td>1</td>\n",
       "      <td>1</td>\n",
       "      <td>35</td>\n",
       "      <td>5.0</td>\n",
       "      <td>11.0</td>\n",
       "      <td>NaN</td>\n",
       "      <td>NaN</td>\n",
       "      <td>NaN</td>\n",
       "      <td>NaN</td>\n",
       "      <td>570309.523810</td>\n",
       "      <td>55.252186</td>\n",
       "      <td>1101</td>\n",
       "    </tr>\n",
       "  </tbody>\n",
       "</table>\n",
       "</div>"
      ],
      "text/plain": [
       "              URUT  B1R1  B1R2  B1R5  UMUR  B5R17  B5R30  B5R35  B5R36  B5R37  \\\n",
       "0  110112500101601    11     1     1    41    8.0    8.0    NaN    NaN    NaN   \n",
       "1  110112500101601    11     1     1    30    8.0    NaN    1.0    4.0    NaN   \n",
       "2  110112500101601    11     1     1     5    1.0    NaN    NaN    NaN    NaN   \n",
       "3  110112500101601    11     1     1     0    NaN    NaN    NaN    NaN    NaN   \n",
       "4  110112500101602    11     1     1    35    5.0   11.0    NaN    NaN    NaN   \n",
       "\n",
       "   B5R38        EXP_CAP      WEIND  bps_2009  \n",
       "0    NaN  343464.285714  45.876255      1101  \n",
       "1    NaN  343464.285714  45.876255      1101  \n",
       "2    NaN  343464.285714  45.876255      1101  \n",
       "3    NaN  343464.285714  45.876255      1101  \n",
       "4    NaN  570309.523810  55.252186      1101  "
      ]
     },
     "execution_count": 29,
     "metadata": {},
     "output_type": "execute_result"
    }
   ],
   "source": [
    "# Subsetting dataset to chosen variables\n",
    "df_raw1 = sus12_ki[['URUT', 'B1R1', 'B1R2', 'B1R5', 'UMUR', 'B5R17', 'B5R30','B5R35', 'B5R36', 'B5R37','B5R38', 'EXP_CAP', 'WEIND']]\n",
    "\n",
    "# Create District Identifier\n",
    "df_raw1 = df_raw1.assign(bps_2009 = df_raw1['B1R1'] * 100 + df_raw1['B1R2'])\n",
    "df_raw1.head()"
   ]
  },
  {
   "cell_type": "code",
   "execution_count": 30,
   "id": "unknown-endorsement",
   "metadata": {},
   "outputs": [
    {
     "data": {
      "text/plain": [
       "1113298    9471\n",
       "1113297    9471\n",
       "1113296    9471\n",
       "1113295    9471\n",
       "1113294    9471\n",
       "1113293    9471\n",
       "1113292    9471\n",
       "1113291    9471\n",
       "1113290    9471\n",
       "1113289    9471\n",
       "1113288    9471\n",
       "1113287    9471\n",
       "1113286    9471\n",
       "1113285    9471\n",
       "1113284    9471\n",
       "1113283    9471\n",
       "1113282    9471\n",
       "1113281    9471\n",
       "1113279    9471\n",
       "1113278    9471\n",
       "1113277    9471\n",
       "1113301    9471\n",
       "1113169    9471\n",
       "1113302    9471\n",
       "1113304    9471\n",
       "1113327    9471\n",
       "1113326    9471\n",
       "1113325    9471\n",
       "1113324    9471\n",
       "1113323    9471\n",
       "1113322    9471\n",
       "1113321    9471\n",
       "1113320    9471\n",
       "1113319    9471\n",
       "1113318    9471\n",
       "1113317    9471\n",
       "1113316    9471\n",
       "1113315    9471\n",
       "1113314    9471\n",
       "1113313    9471\n",
       "1113312    9471\n",
       "1113311    9471\n",
       "1113310    9471\n",
       "1113309    9471\n",
       "1113308    9471\n",
       "1113307    9471\n",
       "1113306    9471\n",
       "1113305    9471\n",
       "1113303    9471\n",
       "1114444    9471\n",
       "Name: bps_2009, dtype: int64"
      ]
     },
     "execution_count": 30,
     "metadata": {},
     "output_type": "execute_result"
    }
   ],
   "source": [
    "crosswalk = df_raw1['bps_2009']\n",
    "crosswalk.sort_values().tail(50)"
   ]
  },
  {
   "cell_type": "markdown",
   "id": "champion-monaco",
   "metadata": {},
   "source": [
    "# Sanity Check\n",
    "\n",
    "Sebelum kita mengecek lebih lanjut variabel yang kita miliki, kita perlu menyelidiki apakah data yang kita gunakan memiliki distribusi yang bersifat \"*well-behaved*\" (tidak terdapat pencilan/*outlier* ataupun distribusi yang janggal). Salah satu cara sederhana untuk mengecek data adalah dengan (1) melihat statistik deskriptif data numerik dan (2) . Umumnya, kita ingin melihat kejanggalan pada data-data yang bersifat *continuous*, karena data-data survey yang bersifat *categorical* umumnya hanya memiliki beberapa pilihan yang sudah ditentukan sebelumnya. \n",
    "\n",
    "Pastiin ga ada outlier dan lain-lain"
   ]
  },
  {
   "cell_type": "code",
   "execution_count": 32,
   "id": "abroad-identity",
   "metadata": {},
   "outputs": [
    {
     "data": {
      "text/html": [
       "<div>\n",
       "<style scoped>\n",
       "    .dataframe tbody tr th:only-of-type {\n",
       "        vertical-align: middle;\n",
       "    }\n",
       "\n",
       "    .dataframe tbody tr th {\n",
       "        vertical-align: top;\n",
       "    }\n",
       "\n",
       "    .dataframe thead th {\n",
       "        text-align: right;\n",
       "    }\n",
       "</style>\n",
       "<table border=\"1\" class=\"dataframe\">\n",
       "  <thead>\n",
       "    <tr style=\"text-align: right;\">\n",
       "      <th></th>\n",
       "      <th>URUT</th>\n",
       "      <th>B1R1</th>\n",
       "      <th>B1R2</th>\n",
       "      <th>B1R5</th>\n",
       "      <th>UMUR</th>\n",
       "      <th>B5R17</th>\n",
       "      <th>B5R30</th>\n",
       "      <th>B5R35</th>\n",
       "      <th>B5R36</th>\n",
       "      <th>B5R37</th>\n",
       "      <th>B5R38</th>\n",
       "      <th>EXP_CAP</th>\n",
       "      <th>WEIND</th>\n",
       "      <th>bps_2009</th>\n",
       "    </tr>\n",
       "  </thead>\n",
       "  <tbody>\n",
       "    <tr>\n",
       "      <th>count</th>\n",
       "      <td>1.114445e+06</td>\n",
       "      <td>1.114445e+06</td>\n",
       "      <td>1.114445e+06</td>\n",
       "      <td>1.114445e+06</td>\n",
       "      <td>1.114445e+06</td>\n",
       "      <td>923801.000000</td>\n",
       "      <td>524274.000000</td>\n",
       "      <td>317790.000000</td>\n",
       "      <td>126049.000000</td>\n",
       "      <td>191740.000000</td>\n",
       "      <td>158190.000000</td>\n",
       "      <td>1.114445e+06</td>\n",
       "      <td>1.114445e+06</td>\n",
       "      <td>1.114445e+06</td>\n",
       "    </tr>\n",
       "    <tr>\n",
       "      <th>mean</th>\n",
       "      <td>4.250205e+14</td>\n",
       "      <td>4.228051e+01</td>\n",
       "      <td>2.197639e+01</td>\n",
       "      <td>1.571149e+00</td>\n",
       "      <td>2.924639e+01</td>\n",
       "      <td>4.203683</td>\n",
       "      <td>8.145720</td>\n",
       "      <td>1.910985</td>\n",
       "      <td>4.526898</td>\n",
       "      <td>2.574319</td>\n",
       "      <td>2.363095</td>\n",
       "      <td>6.414489e+05</td>\n",
       "      <td>2.199646e+02</td>\n",
       "      <td>4.250027e+03</td>\n",
       "    </tr>\n",
       "    <tr>\n",
       "      <th>std</th>\n",
       "      <td>2.471679e+14</td>\n",
       "      <td>2.474286e+01</td>\n",
       "      <td>2.653410e+01</td>\n",
       "      <td>4.949122e-01</td>\n",
       "      <td>1.997500e+01</td>\n",
       "      <td>3.705277</td>\n",
       "      <td>5.882204</td>\n",
       "      <td>0.834479</td>\n",
       "      <td>1.415119</td>\n",
       "      <td>0.770995</td>\n",
       "      <td>2.014585</td>\n",
       "      <td>7.558085e+05</td>\n",
       "      <td>2.081108e+02</td>\n",
       "      <td>2.471674e+03</td>\n",
       "    </tr>\n",
       "    <tr>\n",
       "      <th>min</th>\n",
       "      <td>1.101125e+14</td>\n",
       "      <td>1.100000e+01</td>\n",
       "      <td>1.000000e+00</td>\n",
       "      <td>1.000000e+00</td>\n",
       "      <td>0.000000e+00</td>\n",
       "      <td>1.000000</td>\n",
       "      <td>1.000000</td>\n",
       "      <td>1.000000</td>\n",
       "      <td>1.000000</td>\n",
       "      <td>1.000000</td>\n",
       "      <td>1.000000</td>\n",
       "      <td>6.707492e+04</td>\n",
       "      <td>1.000000e+00</td>\n",
       "      <td>1.101000e+03</td>\n",
       "    </tr>\n",
       "    <tr>\n",
       "      <th>25%</th>\n",
       "      <td>1.805125e+14</td>\n",
       "      <td>1.800000e+01</td>\n",
       "      <td>4.000000e+00</td>\n",
       "      <td>1.000000e+00</td>\n",
       "      <td>1.200000e+01</td>\n",
       "      <td>1.000000</td>\n",
       "      <td>3.000000</td>\n",
       "      <td>1.000000</td>\n",
       "      <td>4.000000</td>\n",
       "      <td>2.000000</td>\n",
       "      <td>1.000000</td>\n",
       "      <td>3.033944e+05</td>\n",
       "      <td>8.018752e+01</td>\n",
       "      <td>1.805000e+03</td>\n",
       "    </tr>\n",
       "    <tr>\n",
       "      <th>50%</th>\n",
       "      <td>3.507220e+14</td>\n",
       "      <td>3.500000e+01</td>\n",
       "      <td>9.000000e+00</td>\n",
       "      <td>2.000000e+00</td>\n",
       "      <td>2.700000e+01</td>\n",
       "      <td>2.000000</td>\n",
       "      <td>8.000000</td>\n",
       "      <td>2.000000</td>\n",
       "      <td>4.000000</td>\n",
       "      <td>3.000000</td>\n",
       "      <td>1.000000</td>\n",
       "      <td>4.572752e+05</td>\n",
       "      <td>1.457933e+02</td>\n",
       "      <td>3.507000e+03</td>\n",
       "    </tr>\n",
       "    <tr>\n",
       "      <th>75%</th>\n",
       "      <td>6.311220e+14</td>\n",
       "      <td>6.300000e+01</td>\n",
       "      <td>2.400000e+01</td>\n",
       "      <td>2.000000e+00</td>\n",
       "      <td>4.400000e+01</td>\n",
       "      <td>8.000000</td>\n",
       "      <td>11.000000</td>\n",
       "      <td>3.000000</td>\n",
       "      <td>6.000000</td>\n",
       "      <td>3.000000</td>\n",
       "      <td>4.000000</td>\n",
       "      <td>7.398477e+05</td>\n",
       "      <td>2.941666e+02</td>\n",
       "      <td>6.311000e+03</td>\n",
       "    </tr>\n",
       "    <tr>\n",
       "      <th>max</th>\n",
       "      <td>9.471220e+14</td>\n",
       "      <td>9.400000e+01</td>\n",
       "      <td>7.900000e+01</td>\n",
       "      <td>2.000000e+00</td>\n",
       "      <td>9.800000e+01</td>\n",
       "      <td>15.000000</td>\n",
       "      <td>19.000000</td>\n",
       "      <td>3.000000</td>\n",
       "      <td>10.000000</td>\n",
       "      <td>3.000000</td>\n",
       "      <td>6.000000</td>\n",
       "      <td>7.529981e+07</td>\n",
       "      <td>4.941000e+03</td>\n",
       "      <td>9.471000e+03</td>\n",
       "    </tr>\n",
       "  </tbody>\n",
       "</table>\n",
       "</div>"
      ],
      "text/plain": [
       "               URUT          B1R1          B1R2          B1R5          UMUR  \\\n",
       "count  1.114445e+06  1.114445e+06  1.114445e+06  1.114445e+06  1.114445e+06   \n",
       "mean   4.250205e+14  4.228051e+01  2.197639e+01  1.571149e+00  2.924639e+01   \n",
       "std    2.471679e+14  2.474286e+01  2.653410e+01  4.949122e-01  1.997500e+01   \n",
       "min    1.101125e+14  1.100000e+01  1.000000e+00  1.000000e+00  0.000000e+00   \n",
       "25%    1.805125e+14  1.800000e+01  4.000000e+00  1.000000e+00  1.200000e+01   \n",
       "50%    3.507220e+14  3.500000e+01  9.000000e+00  2.000000e+00  2.700000e+01   \n",
       "75%    6.311220e+14  6.300000e+01  2.400000e+01  2.000000e+00  4.400000e+01   \n",
       "max    9.471220e+14  9.400000e+01  7.900000e+01  2.000000e+00  9.800000e+01   \n",
       "\n",
       "               B5R17          B5R30          B5R35          B5R36  \\\n",
       "count  923801.000000  524274.000000  317790.000000  126049.000000   \n",
       "mean        4.203683       8.145720       1.910985       4.526898   \n",
       "std         3.705277       5.882204       0.834479       1.415119   \n",
       "min         1.000000       1.000000       1.000000       1.000000   \n",
       "25%         1.000000       3.000000       1.000000       4.000000   \n",
       "50%         2.000000       8.000000       2.000000       4.000000   \n",
       "75%         8.000000      11.000000       3.000000       6.000000   \n",
       "max        15.000000      19.000000       3.000000      10.000000   \n",
       "\n",
       "               B5R37          B5R38       EXP_CAP         WEIND      bps_2009  \n",
       "count  191740.000000  158190.000000  1.114445e+06  1.114445e+06  1.114445e+06  \n",
       "mean        2.574319       2.363095  6.414489e+05  2.199646e+02  4.250027e+03  \n",
       "std         0.770995       2.014585  7.558085e+05  2.081108e+02  2.471674e+03  \n",
       "min         1.000000       1.000000  6.707492e+04  1.000000e+00  1.101000e+03  \n",
       "25%         2.000000       1.000000  3.033944e+05  8.018752e+01  1.805000e+03  \n",
       "50%         3.000000       1.000000  4.572752e+05  1.457933e+02  3.507000e+03  \n",
       "75%         3.000000       4.000000  7.398477e+05  2.941666e+02  6.311000e+03  \n",
       "max         3.000000       6.000000  7.529981e+07  4.941000e+03  9.471000e+03  "
      ]
     },
     "execution_count": 32,
     "metadata": {},
     "output_type": "execute_result"
    }
   ],
   "source": [
    "df_raw1.describe()"
   ]
  },
  {
   "cell_type": "code",
   "execution_count": 33,
   "id": "narrative-junction",
   "metadata": {},
   "outputs": [
    {
     "data": {
      "image/png": "[encoded data removed]",
      "text/plain": [
       "<Figure size 432x288 with 1 Axes>"
      ]
     },
     "metadata": {
      "needs_background": "light"
     },
     "output_type": "display_data"
    }
   ],
   "source": [
    "plot_umur = df_raw1['UMUR']\n",
    "\n",
    "plot_umur.plot.hist(grid = False, bins=99, rwidth=1, color='blue', label='Age')\n",
    "plt.title('Distribution for Age Variable')\n",
    "plt.xlabel('Value of x-variable')\n",
    "plt.ylabel('Counts')\n",
    "plt.legend(loc=\"best\")\n",
    "plt.tight_layout()\n",
    "plt.rcParams['figure.figsize'] = [10, 4]\n",
    "plt.show()"
   ]
  },
  {
   "cell_type": "code",
   "execution_count": 34,
   "id": "bearing-raising",
   "metadata": {},
   "outputs": [
    {
     "data": {
      "image/png": "[encoded data removed]",
      "text/plain": [
       "<Figure size 720x288 with 1 Axes>"
      ]
     },
     "metadata": {
      "needs_background": "light"
     },
     "output_type": "display_data"
    }
   ],
   "source": [
    "# Histogram for Log Expenditure per Capita Variable\n",
    "df_raw1 = df_raw1.assign(log_exp_cap = np.log(df_raw1['EXP_CAP']))\n",
    "plot_exp = df_raw1['log_exp_cap']\n",
    "\n",
    "plot_exp.plot.hist(grid=False, bins=50, rwidth=0.9, color='maroon', label='Log PCE')\n",
    "plt.title('Distribution for Log per Capita Expenditures Variable')\n",
    "plt.xlabel('Value of x Variable')\n",
    "plt.ylabel('Counts')\n",
    "plt.legend(loc='best')\n",
    "plt.tight_layout()\n",
    "plt.rcParams['figure.figsize'] = [10, 4]\n",
    "plt.show()"
   ]
  },
  {
   "cell_type": "code",
   "execution_count": 35,
   "id": "premier-oxide",
   "metadata": {},
   "outputs": [],
   "source": [
    "dataPendidikan = df_raw1['B5R17']"
   ]
  },
  {
   "cell_type": "code",
   "execution_count": 36,
   "id": "subtle-kidney",
   "metadata": {},
   "outputs": [],
   "source": [
    "dataUmur = df_raw1['UMUR']"
   ]
  },
  {
   "cell_type": "code",
   "execution_count": 38,
   "id": "colonial-occasions",
   "metadata": {},
   "outputs": [],
   "source": [
    "import seaborn as sn"
   ]
  },
  {
   "cell_type": "code",
   "execution_count": 39,
   "id": "coated-referral",
   "metadata": {},
   "outputs": [
    {
     "data": {
      "text/plain": [
       "<matplotlib.axes._subplots.AxesSubplot at 0x7f8dbe7ea340>"
      ]
     },
     "execution_count": 39,
     "metadata": {},
     "output_type": "execute_result"
    },
    {
     "data": {
      "image/png": "[encoded data removed]",
      "text/plain": [
       "<Figure size 720x288 with 1 Axes>"
      ]
     },
     "metadata": {
      "needs_background": "light"
     },
     "output_type": "display_data"
    }
   ],
   "source": [
    "sn.countplot(x = 'B5R35', data = df_raw1)"
   ]
  },
  {
   "cell_type": "code",
   "execution_count": 40,
   "id": "geographic-summit",
   "metadata": {},
   "outputs": [
    {
     "data": {
      "text/plain": [
       "<matplotlib.axes._subplots.AxesSubplot at 0x7f8dbe7ab040>"
      ]
     },
     "execution_count": 40,
     "metadata": {},
     "output_type": "execute_result"
    },
    {
     "data": {
      "image/png": "[encoded data removed]",
      "text/plain": [
       "<Figure size 720x288 with 1 Axes>"
      ]
     },
     "metadata": {
      "needs_background": "light"
     },
     "output_type": "display_data"
    }
   ],
   "source": [
    "sn.countplot(x = 'B5R35', data = df_raw1, hue = 'B1R5')"
   ]
  },
  {
   "cell_type": "code",
   "execution_count": 41,
   "id": "golden-preparation",
   "metadata": {},
   "outputs": [
    {
     "data": {
      "text/plain": [
       "<matplotlib.axes._subplots.AxesSubplot at 0x7f8dbe78b100>"
      ]
     },
     "execution_count": 41,
     "metadata": {},
     "output_type": "execute_result"
    },
    {
     "data": {
      "image/png": "[encoded data removed]",
      "text/plain": [
       "<Figure size 720x288 with 1 Axes>"
      ]
     },
     "metadata": {
      "needs_background": "light"
     },
     "output_type": "display_data"
    }
   ],
   "source": [
    "sn.boxplot(x = 'B5R35', y = 'EXP_CAP', data=df_raw1)"
   ]
  },
  {
   "cell_type": "code",
   "execution_count": 42,
   "id": "short-season",
   "metadata": {},
   "outputs": [
    {
     "data": {
      "text/plain": [
       "<matplotlib.axes._subplots.AxesSubplot at 0x7f8dbe729250>"
      ]
     },
     "execution_count": 42,
     "metadata": {},
     "output_type": "execute_result"
    },
    {
     "data": {
      "image/png": "[encoded data removed]",
      "text/plain": [
       "<Figure size 720x288 with 1 Axes>"
      ]
     },
     "metadata": {
      "needs_background": "light"
     },
     "output_type": "display_data"
    }
   ],
   "source": [
    "sn.boxplot(x = 'B5R35', y = 'B5R17', data=df_raw1)"
   ]
  },
  {
   "cell_type": "markdown",
   "id": "african-missile",
   "metadata": {},
   "source": [
    "Rada misleading sih, soalnya kan umur 50 ke atas pada menopause, jadi perlu hati-hati sih pake UMUR"
   ]
  },
  {
   "cell_type": "code",
   "execution_count": 43,
   "id": "ambient-killer",
   "metadata": {},
   "outputs": [
    {
     "data": {
      "text/plain": [
       "<matplotlib.axes._subplots.AxesSubplot at 0x7f8dbe69bbb0>"
      ]
     },
     "execution_count": 43,
     "metadata": {},
     "output_type": "execute_result"
    },
    {
     "data": {
      "image/png": "[encoded data removed]",
      "text/plain": [
       "<Figure size 720x288 with 1 Axes>"
      ]
     },
     "metadata": {
      "needs_background": "light"
     },
     "output_type": "display_data"
    }
   ],
   "source": [
    "sn.boxplot(x = 'B5R35', y = 'UMUR', data = df_raw1)"
   ]
  },
  {
   "cell_type": "code",
   "execution_count": null,
   "id": "offensive-chapter",
   "metadata": {},
   "outputs": [],
   "source": []
  }
 ],
 "metadata": {
  "kernelspec": {
   "display_name": "Python 3",
   "language": "python",
   "name": "python3"
  },
  "language_info": {
   "codemirror_mode": {
    "name": "ipython",
    "version": 3
   },
   "file_extension": ".py",
   "mimetype": "text/x-python",
   "name": "python",
   "nbconvert_exporter": "python",
   "pygments_lexer": "ipython3",
   "version": "3.8.5"
  }
 },
 "nbformat": 4,
 "nbformat_minor": 5
}
